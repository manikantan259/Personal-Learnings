{
  "cells": [
    {
      "cell_type": "markdown",
      "metadata": {
        "id": "view-in-github",
        "colab_type": "text"
      },
      "source": [
        "<a href=\"https://colab.research.google.com/github/manikantan259/Personal-Learnings/blob/master/Array.ipynb\" target=\"_parent\"><img src=\"https://colab.research.google.com/assets/colab-badge.svg\" alt=\"Open In Colab\"/></a>"
      ]
    },
    {
      "cell_type": "code",
      "execution_count": null,
      "metadata": {
        "colab": {
          "base_uri": "https://localhost:8080/"
        },
        "id": "GnnojMEOPmsm",
        "outputId": "5e1e1985-5fc4-4245-cdd2-62a3723aa1ae"
      },
      "outputs": [
        {
          "name": "stdout",
          "output_type": "stream",
          "text": [
            "2 was found at index 0.\n"
          ]
        }
      ],
      "source": [
        "# Linear search\n",
        "\n",
        "def linearsearch(arr,n,x):\n",
        "\n",
        "  flag = 0\n",
        "  for i in range(0,len(arr)):\n",
        "    if arr[i] == x:\n",
        "      flag = 1\n",
        "      break\n",
        "\n",
        "  if flag == 1:\n",
        "        print('{} was found at index {}.'.format(x, i))\n",
        "  else:\n",
        "        print('was not found')\n",
        "\n",
        "\n",
        "arr = [2, 4, 0, 1, 9]\n",
        "x = 2\n",
        "n = len(arr)\n",
        "result = linearsearch(arr, n, x)"
      ]
    },
    {
      "cell_type": "code",
      "execution_count": null,
      "metadata": {
        "colab": {
          "base_uri": "https://localhost:8080/"
        },
        "id": "eKbLew7pVHRk",
        "outputId": "653997db-e4d2-4af9-86c5-08da3ef9db5c"
      },
      "outputs": [
        {
          "output_type": "stream",
          "name": "stdout",
          "text": [
            "was not found\n"
          ]
        }
      ],
      "source": [
        "def linearsearch(arr,n,x):\n",
        "\n",
        "  flag = 0\n",
        "  for i in range(0,len(arr)):#1\n",
        "    if arr[i] == x: #if arr[4] == 10\n",
        "      return i\n",
        "\n",
        "  return -1\n",
        "\n",
        "\n",
        "\n",
        "\n",
        "arr = [2, 4, 0, 1, 9]\n",
        "x = 10\n",
        "n = len(arr)\n",
        "result = linearsearch(arr, n, x)\n",
        "\n",
        "if result == -1 :\n",
        "        print('was not found')\n",
        "else:\n",
        "       print('{} was found at index {}.'.format(x, result))"
      ]
    },
    {
      "cell_type": "code",
      "execution_count": null,
      "metadata": {
        "colab": {
          "base_uri": "https://localhost:8080/"
        },
        "id": "XJs6Tht9XMKQ",
        "outputId": "7580d4cf-ebfd-4398-9389-a65fa5cb38e3"
      },
      "outputs": [
        {
          "name": "stdout",
          "output_type": "stream",
          "text": [
            "[1, 2, 3, 4, 5, 6]\n",
            "Reversed list is\n",
            "[6, 5, 4, 3, 2, 1]\n"
          ]
        }
      ],
      "source": [
        "# Reverse an Array\n",
        "\n",
        "\n",
        "def reverseList(A):\n",
        "  start =0\n",
        "  end = len(A)-1\n",
        "  while start < end:\n",
        "        A[start], A[end] = A[end], A[start]\n",
        "        start += 1\n",
        "        end -= 1\n",
        "\n",
        "A = [1, 2, 3, 4, 5, 6]\n",
        "print(A)\n",
        "reverseList(A)\n",
        "print(\"Reversed list is\")\n",
        "print(A)"
      ]
    },
    {
      "cell_type": "code",
      "execution_count": null,
      "metadata": {
        "colab": {
          "base_uri": "https://localhost:8080/"
        },
        "id": "G3OrycQlYjPn",
        "outputId": "1e85dd28-5f38-4b94-9a5e-cbc6ce921d09"
      },
      "outputs": [
        {
          "name": "stdout",
          "output_type": "stream",
          "text": [
            "[1, 2, 3, 4, 5, 6]\n",
            "swaped list is\n",
            "[2, 1, 4, 3, 6, 5]\n"
          ]
        }
      ],
      "source": [
        "#swap array adjacent ele\n",
        "\n",
        "def swap(A):\n",
        "\n",
        "  for i in range(0,len(A),2):\n",
        "       if i+1<len(A) :\n",
        "      A[i] , A[i+1] = A[i+1] , A[i]\n",
        "\n",
        "\n",
        "A = [1, 2, 3, 4, 5, 6]\n",
        "print(A)\n",
        "swap(A)\n",
        "print(\"swaped list is\")\n",
        "print(A)"
      ]
    },
    {
      "cell_type": "code",
      "execution_count": null,
      "metadata": {
        "colab": {
          "base_uri": "https://localhost:8080/"
        },
        "id": "PZlbW9VPdfpp",
        "outputId": "0d5c01de-6c71-455a-b7b0-55649d513184"
      },
      "outputs": [
        {
          "name": "stdout",
          "output_type": "stream",
          "text": [
            "[2, 3, 1, 6, 3, 6, 2]\n",
            "unique ele are\n",
            "1\n"
          ]
        }
      ],
      "source": [
        "#Unique Elements\n",
        "\n",
        "def unique(A):\n",
        "  ans = A[0]\n",
        "  for i in range(1,len(A)):\n",
        "    ans =  ans^A[i]              #same no ^ same no = 0 , no. ^ 0 = no\n",
        "  return ans\n",
        "\n",
        "A = [2,3,1,6,3,6,2]\n",
        "print(A)\n",
        "print(\"unique ele are\")\n",
        "print(unique(A))"
      ]
    },
    {
      "cell_type": "code",
      "execution_count": null,
      "metadata": {
        "colab": {
          "base_uri": "https://localhost:8080/"
        },
        "id": "WvGy5i3yhFd3",
        "outputId": "4b9986e7-6756-43f0-a783-e918aecc41e2"
      },
      "outputs": [
        {
          "name": "stdout",
          "output_type": "stream",
          "text": [
            "[2, 3]\n"
          ]
        }
      ],
      "source": [
        "#Array intersection\n",
        "from array import*\n",
        "def inter(A,B):\n",
        "  i =0\n",
        "  j=0\n",
        "  n = len(A)\n",
        "  m = len(B)\n",
        "  ans = []\n",
        "\n",
        "  while(i<n and j<m):\n",
        "    if A[i]==B[j]:\n",
        "      ans.append(A[i])\n",
        "\n",
        "      i+=1\n",
        "      j+=1\n",
        "    elif  A[i]<B[j]:     # ex- 1<2 then a++\n",
        "      i+=1\n",
        "    else:\n",
        "      j+=1\n",
        "  return ans\n",
        "\n",
        "\n",
        "A= [1,2,3,4,5]\n",
        "B = [2,3]\n",
        "\n",
        "print(inter(A,B))"
      ]
    },
    {
      "cell_type": "code",
      "execution_count": null,
      "metadata": {
        "colab": {
          "base_uri": "https://localhost:8080/"
        },
        "id": "JTjyyoAMh1uk",
        "outputId": "63c444d1-c213-452a-d224-1ff0a5ae912b"
      },
      "outputs": [
        {
          "name": "stdout",
          "output_type": "stream",
          "text": [
            "[[1, 4], [2, 3]]\n"
          ]
        }
      ],
      "source": [
        "#pair sum\n",
        "ans = []\n",
        "def pair(A,target):\n",
        "  for i in range(len(A)-1):\n",
        "    for j in range (i+1,len(A)):\n",
        "        if A[i]+A[j] == target:\n",
        "          temp = []\n",
        "          temp.append(min(A[i],A[j]))\n",
        "          temp.append(max(A[i],A[j]))\n",
        "          ans.append(temp)\n",
        "  return ans\n",
        "\n",
        "\n",
        "\n",
        "A= [1,2,3,4,5]\n",
        "\n",
        "print(pair(A,5))"
      ]
    },
    {
      "cell_type": "code",
      "execution_count": null,
      "metadata": {
        "colab": {
          "base_uri": "https://localhost:8080/"
        },
        "id": "rFcp_HpOD4sf",
        "outputId": "b617497c-b238-4da9-c36a-9591d3a37caa"
      },
      "outputs": [
        {
          "name": "stdout",
          "output_type": "stream",
          "text": [
            "[0, 0, 1, 1, 1, 1]\n"
          ]
        }
      ],
      "source": [
        "# sort 0,1\n",
        "\n",
        "def sorting(arr):\n",
        "  left = 0\n",
        "  right =len(arr)-1\n",
        "\n",
        "\n",
        "  while left<right:\n",
        "\n",
        "    while arr[left] == 0 and left<right:\n",
        "      left+=1\n",
        "    while arr[right] == 1 and left<right:\n",
        "      right-=1\n",
        "\n",
        "    if (left<right):\n",
        "\n",
        "      arr[left],arr[right] = arr[right],arr[left]\n",
        "      left+=1\n",
        "      right-=1\n",
        "\n",
        "    return arr\n",
        "\n",
        "\n",
        "\n",
        "arr = [0, 1, 0, 1, 1, 1]\n",
        "\n",
        "print(sorting(arr))"
      ]
    },
    {
      "cell_type": "code",
      "execution_count": null,
      "metadata": {
        "colab": {
          "base_uri": "https://localhost:8080/"
        },
        "id": "cn-egw0ydR6m",
        "outputId": "978803c2-9ceb-4ae9-d820-9675ab440618"
      },
      "outputs": [
        {
          "output_type": "stream",
          "name": "stdout",
          "text": [
            "Index is:  2\n",
            "Index of 11 is:  0\n"
          ]
        }
      ],
      "source": [
        "#binary search\n",
        "\n",
        "def binarySearch(arr,size,key):\n",
        "  start = 0\n",
        "  end =len(arr)-1\n",
        "  mid = start+(end-start) // 2\n",
        "\n",
        "  while(start<end):\n",
        "\n",
        "    if arr[mid] == key:\n",
        "      return mid\n",
        "\n",
        "    if arr[mid] <key:\n",
        "      start = mid+1\n",
        "    else:\n",
        "      end = mid-1\n",
        "\n",
        "    mid = start+(end-start) // 2\n",
        "  return -1\n",
        "\n",
        "\n",
        "even = [2,4,6,8,12,18]\n",
        "odd = [3, 8, 11, 14, 16]\n",
        "\n",
        "evenIndex = binarySearch(even, 6, 6)\n",
        "print(\"Index is: \", evenIndex)\n",
        "\n",
        "oddIndex = binarySearch(odd, 5, 3)\n",
        "print(\"Index of 11 is: \", oddIndex)"
      ]
    },
    {
      "cell_type": "code",
      "execution_count": null,
      "metadata": {
        "colab": {
          "base_uri": "https://localhost:8080/"
        },
        "id": "9TK-e8kG5QiJ",
        "outputId": "573fadb8-87c0-4f57-c4d9-d9f3d5c84569"
      },
      "outputs": [
        {
          "output_type": "stream",
          "name": "stdout",
          "text": [
            "2\n",
            "7\n",
            "6\n"
          ]
        }
      ],
      "source": [
        "#first occurance and last and total no.of occurance\n",
        "\n",
        "def first(arr,key):\n",
        "\n",
        "  start = 0\n",
        "  end =len(arr)-1\n",
        "  ans =0\n",
        "  mid = start+(end-start) // 2\n",
        "\n",
        "  while(start<=end):\n",
        "\n",
        "    if arr[mid] == key:      #3=3\n",
        "      ans =mid\n",
        "      end =mid-1                  # shift towards right to find frst occurence\n",
        "\n",
        "    elif arr[mid] <key:\n",
        "      start = mid+1\n",
        "\n",
        "    else:\n",
        "      end = mid-1\n",
        "\n",
        "    mid = start+(end-start) // 2\n",
        "  return ans\n",
        "\n",
        "\n",
        "\n",
        "\n",
        "def last(arr,key):\n",
        "\n",
        "  start = 0\n",
        "  end =len(arr)-1\n",
        "  ans =0\n",
        "  mid = start+(end-start) // 2\n",
        "\n",
        "  while(start<=end):\n",
        "\n",
        "    if arr[mid] == key:\n",
        "      ans =mid\n",
        "      start = mid+1                 # shift towards left to find frst occurence\n",
        "\n",
        "    elif arr[mid] <key:\n",
        "      start = mid+1\n",
        "\n",
        "    else:\n",
        "      end = mid-1\n",
        "\n",
        "    mid = start+(end-start) // 2\n",
        "  return ans\n",
        "\n",
        "\n",
        "\n",
        "arr = [1,2,3,3,3,3,3,3,5]\n",
        "\n",
        "print(first(arr,3))\n",
        "print (last(arr,3))\n",
        "\n",
        "total = (last(arr,3) - first(arr,3))+1\n",
        "print (total)\n",
        "\n",
        "\n",
        "\n"
      ]
    },
    {
      "cell_type": "code",
      "execution_count": null,
      "metadata": {
        "colab": {
          "base_uri": "https://localhost:8080/"
        },
        "id": "npNfWVCuDoji",
        "outputId": "5d9f721b-f104-4f8a-863d-88b1862f05cf"
      },
      "outputs": [
        {
          "name": "stdout",
          "output_type": "stream",
          "text": [
            "4\n"
          ]
        }
      ],
      "source": [
        "#pivot ele\n",
        "\n",
        "\n",
        "\n",
        "def pivot (arr):\n",
        "\n",
        "\n",
        "\n",
        "    start,end = 0,len(arr)-1\n",
        "    mid = start+(end-start) // 2\n",
        "\n",
        "    while(start<end):\n",
        "\n",
        "      if arr[mid] >= arr[0]:\n",
        "\n",
        "        start = mid+1\n",
        "\n",
        "      else:\n",
        "        end  = mid\n",
        "\n",
        "      mid = start+(end-start) // 2\n",
        "\n",
        "    return start\n",
        "\n",
        "\n",
        "\n",
        "\n",
        "\n",
        "A = [0,5,6,1,2]\n",
        "\n",
        "print (pivot(A))"
      ]
    },
    {
      "cell_type": "code",
      "execution_count": null,
      "metadata": {
        "colab": {
          "base_uri": "https://localhost:8080/"
        },
        "id": "gm_nAhCW5H1q",
        "outputId": "d3ed4b91-730b-4e31-8fb3-55f6a7d7a32d"
      },
      "outputs": [
        {
          "name": "stdout",
          "output_type": "stream",
          "text": [
            "3\n"
          ]
        }
      ],
      "source": [
        "#peak ele\n",
        "\n",
        "\n",
        "\n",
        "def peak(arr):\n",
        "\n",
        "  start = 0\n",
        "  end  = len(arr)-1\n",
        "  mid = start+(end-start) // 2\n",
        "\n",
        "\n",
        "\n",
        "\n",
        "  while(start<end):\n",
        "\n",
        "    if arr[mid] < arr[mid]+1:\n",
        "      start = mid+1\n",
        "\n",
        "    else:\n",
        "\n",
        "      end = mid\n",
        "    mid = start+(end-start) // 2\n",
        "\n",
        "  return start\n",
        "\n",
        "\n",
        "\n",
        "A = [3,4,5,1]\n",
        "print (peak(A))\n",
        "\n",
        "\n",
        "\n"
      ]
    },
    {
      "cell_type": "code",
      "execution_count": null,
      "metadata": {
        "id": "8qrNbRTL990M"
      },
      "outputs": [],
      "source": [
        "\n",
        "def pivot (arr):\n",
        "\n",
        "\n",
        "\n",
        "    start,end = 0,len(arr)-1\n",
        "    mid = start+(end-start) // 2\n",
        "\n",
        "    while(start<end):\n",
        "\n",
        "      if arr[mid] >= arr[0]:\n",
        "\n",
        "        start = mid+1\n",
        "\n",
        "      else:\n",
        "        end  = mid\n",
        "\n",
        "      mid = start+(end-start) // 2\n",
        "\n",
        "    return start\n",
        "\n",
        "\n",
        "def binarySearch(arr,s,e,key):\n",
        "  start = s\n",
        "  end =e\n",
        "  mid = start+(end-start) // 2\n",
        "\n",
        "  while(start<=end):\n",
        "\n",
        "    if arr[mid] == key:\n",
        "      return mid\n",
        "\n",
        "    if arr[mid] <key:\n",
        "      start = mid+1\n",
        "    else:\n",
        "      end = mid-1\n",
        "\n",
        "    mid = start+(end-start) // 2\n",
        "  return -1\n",
        "\n",
        "\n",
        "\n",
        "def find(arr,k):\n",
        "  a= pivot(arr)\n",
        "  n = len(arr)\n",
        "\n",
        "  if k >= arr[a] and k <= arr[n-1]:\n",
        "\n",
        "    return binarySearch(arr,a,len(arr)-1,k)\n",
        "\n",
        "  else:\n",
        "    return binarySearch(arr,0,a,k)\n",
        "\n",
        "\n",
        "\n",
        "A= ('i',[7,9,1,2,3])\n",
        "\n",
        "k =1\n",
        "\n",
        "print(find(A,k))\n",
        "\n",
        "\n",
        "\n",
        "\n",
        "\n",
        "\n"
      ]
    },
    {
      "cell_type": "code",
      "execution_count": null,
      "metadata": {
        "id": "p2WtYV0meSTV"
      },
      "outputs": [],
      "source": []
    },
    {
      "cell_type": "code",
      "execution_count": null,
      "metadata": {
        "colab": {
          "base_uri": "https://localhost:8080/"
        },
        "id": "R-9tgbXwKeZz",
        "outputId": "7ce3621b-d8c7-43e6-9b61-8f40cbde034c"
      },
      "outputs": [
        {
          "output_type": "stream",
          "name": "stdout",
          "text": [
            "11\n"
          ]
        }
      ],
      "source": [
        "#square root of no.\n",
        "\n",
        "def sqr(n):\n",
        "\n",
        "   start,end = 0,n\n",
        "   mid = start+(end-start) // 2\n",
        "\n",
        "   ans =-1\n",
        "   while(start<=end):\n",
        "\n",
        "     square = mid*mid\n",
        "\n",
        "     if square == n :\n",
        "        return mid\n",
        "\n",
        "     if square < n:\n",
        "      ans = mid\n",
        "      start= mid+1\n",
        "\n",
        "     else:\n",
        "      end =mid -1\n",
        "\n",
        "     mid = start+(end-start) // 2\n",
        "\n",
        "\n",
        "   return ans\n",
        "\n",
        "x = 121\n",
        "\n",
        "print(sqr(x))"
      ]
    },
    {
      "cell_type": "code",
      "execution_count": null,
      "metadata": {
        "colab": {
          "base_uri": "https://localhost:8080/"
        },
        "id": "XxWlzJl_PZNz",
        "outputId": "2961d0f1-7709-4cf4-ad28-eafeab5a7221"
      },
      "outputs": [
        {
          "name": "stdout",
          "output_type": "stream",
          "text": [
            "6.079999999999998\n"
          ]
        }
      ],
      "source": [
        "#square root of no with precision\n",
        "def sqr(n,precision):\n",
        "\n",
        "   start,end = 0,n\n",
        "   mid = start+(end-start) // 2\n",
        "   increment = 0.1\n",
        "\n",
        "\n",
        "   ans =-1\n",
        "   while(start<=end):\n",
        "\n",
        "     square = mid*mid\n",
        "\n",
        "     if square == n :\n",
        "        ans =mid\n",
        "        break\n",
        "\n",
        "     if square < n:\n",
        "      ans = mid\n",
        "      start= mid+1\n",
        "\n",
        "     else:\n",
        "      end =mid -1\n",
        "\n",
        "     mid = start+(end-start) // 2\n",
        "\n",
        "   for i in range(0,precision):\n",
        "     while(ans*ans <= n):\n",
        "         ans+=increment\n",
        "\n",
        "     ans = ans - increment\n",
        "     increment = increment /10\n",
        "\n",
        "   return ans\n",
        "\n",
        "print(sqr(37,2))\n",
        "\n",
        "\n",
        "\n",
        "\n",
        "\n",
        "\n",
        "\n",
        "\n",
        "\n",
        "\n",
        "\n",
        "\n"
      ]
    },
    {
      "cell_type": "code",
      "execution_count": null,
      "metadata": {
        "colab": {
          "base_uri": "https://localhost:8080/"
        },
        "id": "nXwv_7sZDa8u",
        "outputId": "c4bb6207-96a0-48d9-b616-9762535d1296"
      },
      "outputs": [
        {
          "name": "stdout",
          "output_type": "stream",
          "text": [
            "[2, 3, 4, 5, 9]\n"
          ]
        }
      ],
      "source": [
        "#selection sort\n",
        "\n",
        "def selectionsort(arr):\n",
        "\n",
        "  for i in range (len(arr)):                   #conisder the defualt i values as mini vale which is update in if stat\n",
        "    mini =i\n",
        "\n",
        "    for j in range (i+1,len(arr)):               #as we have to compare with next item range is from i+1\n",
        "\n",
        "      if arr[j]<arr[mini]:\n",
        "        mini = j\n",
        "\n",
        "    arr[mini],arr[i]=arr[i],arr[mini]\n",
        "\n",
        "\n",
        "  return arr\n",
        "\n",
        "arr=[5,9,2,4,3] #take input in list\n",
        "\n",
        "ans = selectionsort (arr)\n",
        "print(ans)\n",
        "\n"
      ]
    },
    {
      "cell_type": "code",
      "execution_count": null,
      "metadata": {
        "colab": {
          "base_uri": "https://localhost:8080/"
        },
        "id": "wVtLSoAqHTs0",
        "outputId": "f89890fa-765d-4d64-9b36-c8725b1d4aed"
      },
      "outputs": [
        {
          "name": "stdout",
          "output_type": "stream",
          "text": [
            "[11, 12, 22, 25, 34, 64]\n"
          ]
        }
      ],
      "source": [
        "#bubblesort\n",
        "\n",
        "def bubble(arr):\n",
        "\n",
        "  for i in range(0,len(arr)-1):  # for rounds , 5 ele we need 4 rounds thats y len(arr)-1\n",
        "\n",
        "    for j in range (len(arr)-i-1): #for i =0 , j = n-1: i = 1 , j = n-2 as last ele are sorted\n",
        "\n",
        "      if arr[j] >arr[j+1]:\n",
        "\n",
        "        arr[j],arr[j+1] = arr[j+1],arr[j]\n",
        "\n",
        "  return arr\n",
        "\n",
        "arr = [64,34,25,12,22,11]\n",
        "\n",
        "print(bubble(arr))\n"
      ]
    },
    {
      "cell_type": "code",
      "execution_count": null,
      "metadata": {
        "colab": {
          "base_uri": "https://localhost:8080/"
        },
        "id": "qMyRXBcxI3K_",
        "outputId": "07367977-d197-4240-ff25-6972e190b510"
      },
      "outputs": [
        {
          "name": "stdout",
          "output_type": "stream",
          "text": [
            "Sorted array : \n",
            "11\n",
            "12\n",
            "22\n",
            "25\n",
            "34\n",
            "64\n",
            "90\n"
          ]
        }
      ],
      "source": [
        "#insertion sort\n",
        "\n",
        "\n",
        "def insertionsort(a):\n",
        "\n",
        "  n=len(a)\n",
        "\n",
        "  for i in range(1,n):\n",
        "    current = a[i]\n",
        "\n",
        "    j = i-1\n",
        "\n",
        "    while j > -1 and current < a[j]:\n",
        "\n",
        "            a[j + 1] = a[j]\n",
        "            j -=1\n",
        "\n",
        "    a[j + 1] = current\n",
        "\n",
        "a = [64, 34, 25, 12, 22, 11, 90]\n",
        "insertionsort(a)\n",
        "print(\"Sorted array : \")\n",
        "for i in a:\n",
        "    print(i)\n",
        "\n",
        "\n",
        "\n",
        "\n",
        "\n"
      ]
    },
    {
      "cell_type": "code",
      "execution_count": null,
      "metadata": {
        "colab": {
          "base_uri": "https://localhost:8080/"
        },
        "id": "PgHh5Vwpwa4P",
        "outputId": "566965f5-7daf-40ea-b8d2-313c443cbdbc"
      },
      "outputs": [
        {
          "name": "stdout",
          "output_type": "stream",
          "text": [
            "[1, 2, 3, 4, 5, 6]\n",
            "Reversed list is\n",
            "[1, 2, 6, 5, 4, 3]\n"
          ]
        }
      ],
      "source": [
        "#reverse array from given index\n",
        "\n",
        "def reverseList(A,m):\n",
        "  start =m\n",
        "  end = len(A)-1\n",
        "  while start < end:\n",
        "        A[start], A[end] = A[end], A[start]\n",
        "        start += 1\n",
        "        end -= 1\n",
        "\n",
        "A = [1, 2, 3, 4, 5, 6]\n",
        "print(A)\n",
        "reverseList(A,2)\n",
        "print(\"Reversed list is\")\n",
        "print(A)\n",
        "\n"
      ]
    },
    {
      "cell_type": "code",
      "execution_count": null,
      "metadata": {
        "colab": {
          "base_uri": "https://localhost:8080/"
        },
        "id": "Ixme5jpzydKs",
        "outputId": "8bd2566f-aa11-44ad-ce7f-c3b62b1fa010"
      },
      "outputs": [
        {
          "name": "stdout",
          "output_type": "stream",
          "text": [
            "[1, 2, 3, 4, 5, 6, 7, 9]\n"
          ]
        }
      ],
      "source": [
        "#mergesorted array\n",
        "\n",
        "\n",
        "def merge(arr,brr):\n",
        "  i = 0\n",
        "  j = 0\n",
        "  n,n2 = len(arr),len(brr)\n",
        "  ans =[]\n",
        "\n",
        "  while(i < n and j < n2):\n",
        "\n",
        "    if (arr[i]<brr[j]):\n",
        "\n",
        "      ans.append(arr[i])\n",
        "      i+=1\n",
        "    else:\n",
        "\n",
        "       ans.append(brr[j])\n",
        "       j+=1\n",
        "\n",
        "  while(i<n):\n",
        "      ans.append(arr[i])\n",
        "      i+=1\n",
        "\n",
        "\n",
        "  while(j<n2):\n",
        "     ans.append(brr[j])\n",
        "     j+=1\n",
        "\n",
        "  return ans\n",
        "\n",
        "\n",
        "arr = [1,3,5,7,9]\n",
        "brr = [2,4,6]\n",
        "\n",
        "\n",
        "print(merge(arr,brr))"
      ]
    },
    {
      "cell_type": "code",
      "execution_count": null,
      "metadata": {
        "colab": {
          "base_uri": "https://localhost:8080/"
        },
        "id": "zZfTnQvH0BVL",
        "outputId": "e9329442-7b33-4bd6-96d1-ab3e0a5a712b"
      },
      "outputs": [
        {
          "name": "stdout",
          "output_type": "stream",
          "text": [
            "5\n"
          ]
        }
      ],
      "source": [
        "#search a ele in sorted and rotated\n",
        "\n",
        "\n",
        "def binarySearch(arr,key):\n",
        "  start = 0\n",
        "  end =len(arr)-1\n",
        "\n",
        "\n",
        "  while(start<=end):\n",
        "    mid = start+(end-start) // 2\n",
        "\n",
        "    if arr[mid]  == key:\n",
        "     return mid\n",
        "\n",
        "\n",
        "    if arr[start]<=arr[mid]:                  #check whether left side is sorted\n",
        "\n",
        "      if key >= arr[start] and key < arr[mid]:  # check whether ele is on left of mid or right of mid\n",
        "        end = mid-1\n",
        "\n",
        "      else:\n",
        "        start = mid+1\n",
        "\n",
        "    else :\n",
        "\n",
        "\n",
        "      if key >= arr[mid] and key<=arr[end]:     # check whether ele is on left of mid or right of mid\n",
        "        low = mid+1\n",
        "\n",
        "      else:\n",
        "        end = mid-1\n",
        "\n",
        "\n",
        "  return -1\n",
        "\n",
        "\n",
        "\n",
        "\n",
        "\n",
        "arr = [20,30,40,50,60,5,10]\n",
        "print (binarySearch(arr,5))\n",
        "\n",
        "\n",
        "\n",
        "\n"
      ]
    },
    {
      "cell_type": "code",
      "execution_count": null,
      "metadata": {
        "colab": {
          "base_uri": "https://localhost:8080/"
        },
        "id": "MxWW4swkio8i",
        "outputId": "9919d417-b24a-4450-c71c-93685dcbbdd5"
      },
      "outputs": [
        {
          "name": "stdout",
          "output_type": "stream",
          "text": [
            "true\n",
            "None\n"
          ]
        }
      ],
      "source": [
        "#check an array is sorted and rotated\n",
        "\n",
        "\n",
        "def check(arr):\n",
        "\n",
        "  count = 0\n",
        "\n",
        "  for i in  range(0,len(arr)-1):\n",
        "\n",
        "    if (arr[i-1]>arr[i]):\n",
        "      count += 1\n",
        "\n",
        "    if (arr[len(arr)-1] > arr[0]):\n",
        "\n",
        "      count  +=1\n",
        "\n",
        "\n",
        "\n",
        "  if count > 1:\n",
        "    print(\"true\")\n",
        "  else :\n",
        "    print(\"false\")\n",
        "\n",
        "\n",
        "\n",
        "\n",
        "arr = [1, 2, 3]\n",
        "print (check(arr))\n",
        "\n"
      ]
    },
    {
      "cell_type": "code",
      "execution_count": null,
      "metadata": {
        "colab": {
          "base_uri": "https://localhost:8080/"
        },
        "id": "YikhmtEURvrl",
        "outputId": "03f01781-3fc1-4753-a200-9c44c095c723"
      },
      "outputs": [
        {
          "name": "stdout",
          "output_type": "stream",
          "text": [
            "pair found -2 8\n",
            "pair found 2 4\n"
          ]
        }
      ],
      "source": [
        "#pairsum\n",
        "\n",
        "def pairedElements(arr, sum):\n",
        "\n",
        "    low = 0\n",
        "    high = len(arr) - 1\n",
        "\n",
        "    while (low < high):\n",
        "        if (arr[low] +arr[high] == sum):\n",
        "           print(\"pair found\",arr[low],arr[high])\n",
        "        if (arr[low] + arr[high] > sum):\n",
        "            high -= 1\n",
        "        else:\n",
        "            low += 1\n",
        "\n",
        "\n",
        "\n",
        "arr = [2, 3, 4, -2,6, 8, 9, 11]\n",
        "arr.sort()\n",
        "pairedElements(arr, 6)"
      ]
    },
    {
      "cell_type": "code",
      "execution_count": null,
      "metadata": {
        "colab": {
          "base_uri": "https://localhost:8080/"
        },
        "id": "gn0V4Hq0SVxb",
        "outputId": "2e94cf39-bb42-4dc1-e406-b8e248c1c299"
      },
      "outputs": [
        {
          "name": "stdout",
          "output_type": "stream",
          "text": [
            "4\n"
          ]
        }
      ],
      "source": [
        "#duplicates\n",
        "\n",
        "\n",
        "def duplicates(arr):\n",
        "\n",
        "  ans = 0\n",
        "\n",
        "  for i in range (0,len(arr)):\n",
        "\n",
        "    ans  = ans^ arr[i]          #xor all array ele\n",
        "\n",
        "  for i in range (1,len(arr)):\n",
        "\n",
        "    ans  =  ans ^ i               # xor with the natural no.s\n",
        "\n",
        "  return ans\n",
        "\n",
        "arr = [1,3,4,4,2]\n",
        "print (duplicates(arr))"
      ]
    },
    {
      "cell_type": "code",
      "execution_count": null,
      "metadata": {
        "colab": {
          "base_uri": "https://localhost:8080/"
        },
        "id": "Tal9gVXA5Txd",
        "outputId": "2dcc4ed1-cdd2-4df0-8e8b-2b0f87dc6f1e"
      },
      "outputs": [
        {
          "name": "stdout",
          "output_type": "stream",
          "text": [
            "50\n"
          ]
        }
      ],
      "source": [
        "#max prod of two int\n",
        "\n",
        "\n",
        "def prod(arr):\n",
        "\n",
        "  arr.sort()\n",
        "  return max(arr[0]*arr[1],arr[-1]*arr[-2])\n",
        "\n",
        "arr = [10, -3, 5, -2]\n",
        "print (prod(arr))"
      ]
    },
    {
      "cell_type": "code",
      "execution_count": null,
      "metadata": {
        "colab": {
          "base_uri": "https://localhost:8080/"
        },
        "id": "m2cGk_REkfal",
        "outputId": "1f64dd1c-694f-4789-d1ad-472934e4f076"
      },
      "outputs": [
        {
          "name": "stdout",
          "output_type": "stream",
          "text": [
            "20\n"
          ]
        }
      ],
      "source": [
        "#2nd apporach\n",
        "\n",
        "def prod(arr):\n",
        "\n",
        "  max1 , max2 = arr[0],float (\"-inf\")\n",
        "  min1 , min2 = arr[0],float (\"inf\")\n",
        "\n",
        "  n = len(arr)\n",
        "\n",
        "  for i in range (1,n):\n",
        "\n",
        "    if arr[i]> max1:\n",
        "\n",
        "      max2  = max1\n",
        "      max1 = arr[i]\n",
        "\n",
        "    elif arr[i] >max2:\n",
        "\n",
        "      max2 =  arr[i]\n",
        "\n",
        "    if arr[i]<min1 :\n",
        "\n",
        "      min2 = min1\n",
        "      min1 = arr[i]\n",
        "\n",
        "    elif arr[i]<min2:\n",
        "\n",
        "      min2 = arr[i]\n",
        "\n",
        "  return max(max1*max2 , min1*min2)\n",
        "\n",
        "arr = [-1, -3, -4, 2, 0, -5]\n",
        "print (prod(arr))\n",
        "\n"
      ]
    },
    {
      "cell_type": "code",
      "execution_count": null,
      "metadata": {
        "colab": {
          "base_uri": "https://localhost:8080/"
        },
        "id": "jopHHirZlw1n",
        "outputId": "d2053c4a-33ac-4f10-e134-784d129cd3f7"
      },
      "outputs": [
        {
          "name": "stdout",
          "output_type": "stream",
          "text": [
            "(4, 4)\n"
          ]
        }
      ],
      "source": [
        "#IndexofZero\n",
        "\n",
        "def indexofzero(arr):\n",
        "\n",
        "  max_count=0\n",
        "  max_index=0\n",
        "\n",
        "  pre_index = -1\n",
        "  count=0\n",
        "\n",
        "  for i in range (len(arr)):\n",
        "\n",
        "      if arr[i]==1:\n",
        "        count+=1\n",
        "\n",
        "      else:\n",
        "\n",
        "        count = i - pre_index\n",
        "        pre_index =i\n",
        "\n",
        "      if count >max_count:\n",
        "        max_count =count\n",
        "        max_index =pre_index\n",
        "\n",
        "  return max_count,max_index\n",
        "\n",
        "\n",
        "arr = [0,1,0,1,0,1,1]\n",
        "print(indexofzero(arr))\n",
        "\n"
      ]
    },
    {
      "cell_type": "code",
      "execution_count": null,
      "metadata": {
        "colab": {
          "base_uri": "https://localhost:8080/"
        },
        "id": "nMroWsdMxDCd",
        "outputId": "5ffa19b0-8c86-4ef5-f98d-cbe6261610e8"
      },
      "outputs": [
        {
          "name": "stdout",
          "output_type": "stream",
          "text": [
            "[1, 2, 3, 5, 6, 8, 9, 10, 15]\n"
          ]
        }
      ],
      "source": [
        "def merge(X, Y, m, n):\n",
        "\n",
        "    # size of `X` is `k+1`\n",
        "    k = m + n + 1\n",
        "\n",
        "    # run if `X` or `Y` has elements left\n",
        "    while m >= 0 and n >= 0:\n",
        "        # put the next greater element in the next free position in `X[]` from the end\n",
        "        if X[m] > Y[n]:\n",
        "            X[k] = X[m]\n",
        "            m = m - 1\n",
        "            k = k - 1\n",
        "        else:\n",
        "            X[k] = Y[n]\n",
        "            n = n - 1\n",
        "            k = k - 1\n",
        "\n",
        "    # copy the remaining elements of `Y[]` (if any) to `X[]`\n",
        "    while n >= 0:\n",
        "        X[k] = Y[n]\n",
        "        k = k - 1\n",
        "        n = n - 1\n",
        "\n",
        "    # fill `Y` with all zeroes\n",
        "    for i in range(len(Y)):\n",
        "        Y[i] = 0\n",
        "\n",
        "\n",
        "# The function moves non-empty elements in `X` in the\n",
        "# beginning and then merge them with `Y`\n",
        "def rearrange(X, Y):\n",
        "\n",
        "    # return if `X` is empty\n",
        "    if not len(X):\n",
        "        return;\n",
        "\n",
        "    # moves non-empty elements of `X` at the beginning\n",
        "    k = 0\n",
        "    for i in range(len(X)):\n",
        "        if X[i]:\n",
        "            X[k] = X[i]\n",
        "            k = k + 1\n",
        "\n",
        "    # merge `X[0… k-1]` and `Y[0… n-1]` into `X[0… m-1]`\n",
        "    merge(X, Y, k - 1, len(Y) - 1)\n",
        "\n",
        "\n",
        "if __name__ == '__main__':\n",
        "\n",
        "    # vacant cells in `X[]` is represented by 0\n",
        "    X = [0, 2, 0, 3, 0, 5, 6, 0, 0]\n",
        "    Y = [1, 8, 9, 10, 15]\n",
        "    # merge `Y` into `X`\n",
        "    rearrange(X, Y)\n",
        "\n",
        "    # print merged list\n",
        "    print(X)"
      ]
    },
    {
      "cell_type": "code",
      "execution_count": null,
      "metadata": {
        "colab": {
          "base_uri": "https://localhost:8080/"
        },
        "id": "igcAiCnm2zG7",
        "outputId": "7f7fc0dd-6dfc-41aa-8a91-2d49b1da1310"
      },
      "outputs": [
        {
          "name": "stdout",
          "output_type": "stream",
          "text": [
            "[0, 0, 0, 1, 2, 2]\n"
          ]
        }
      ],
      "source": [
        "#sort 0,1,2 Dutch flag\n",
        "def sortArrayOfZeroOneTwo(numbers):\n",
        "    start = 0\n",
        "    current = 0\n",
        "    n = len(numbers)\n",
        "    end = n - 1\n",
        "    while(current <= end):\n",
        "        if numbers[current] == 0:\n",
        "            numbers[current], numbers[start] = numbers[start], numbers[current]\n",
        "            current += 1\n",
        "            start += 1\n",
        "        elif numbers[current] == 2:\n",
        "            numbers[current], numbers[end] = numbers[end], numbers[current]\n",
        "            end -= 1\n",
        "        else: # numbers[current] == 1\n",
        "            current += 1\n",
        "\n",
        "    return numbers\n",
        "\n",
        "arr= [0,1,0,2,0,2]\n",
        "print(sortArrayOfZeroOneTwo(arr))"
      ]
    },
    {
      "cell_type": "code",
      "execution_count": null,
      "metadata": {
        "colab": {
          "base_uri": "https://localhost:8080/"
        },
        "id": "_fVzKrp63WuW",
        "outputId": "eff30fde-e12b-4916-f007-1128f01f45a0"
      },
      "outputs": [
        {
          "name": "stdout",
          "output_type": "stream",
          "text": [
            "[5, 3, 2, 1, 4]\n"
          ]
        }
      ],
      "source": [
        "#shuffle\n",
        "from random import randrange\n",
        "def Shuffle(A):\n",
        "    n = len(A)\n",
        "    max_value = n\n",
        "    for i in range(n):\n",
        "        random_idx = randrange(max_value) # main line\n",
        "        A[i], A[random_idx] = A[random_idx], A[i]\n",
        "        max_value -= 1\n",
        "\n",
        "    return A\n",
        "\n",
        "arr=[1,2,3,4,5]\n",
        "print(Shuffle(arr))"
      ]
    },
    {
      "cell_type": "code",
      "execution_count": null,
      "metadata": {
        "colab": {
          "base_uri": "https://localhost:8080/"
        },
        "id": "F9O-BhVxVWEL",
        "outputId": "56f249b7-9cf4-4c8d-80fe-ee6e3a3bff3e"
      },
      "outputs": [
        {
          "name": "stdout",
          "output_type": "stream",
          "text": [
            "[1, 4, 2, 7, 1, 10, 5, 8, 3]\n"
          ]
        }
      ],
      "source": [
        "#rearrangeLowAndHigh\n",
        "\n",
        "def rearrangeLowAndHigh(A):\n",
        "    n = len(A)\n",
        "    for i in range(1, n, 2): # compare i with i+1 and i-1\n",
        "\n",
        "        if A[i-1] > A[i]:\n",
        "            A[i-1], A[i] = A[i], A[i-1]\n",
        "\n",
        "        if (i+1) < n and A[i+1] > A[i]:\n",
        "            A[i], A[i+1] = A[i+1], A[i]\n",
        "\n",
        "    return A\n",
        "\n",
        "\n",
        "arr = [1,4,2,5,7,1,10,8,3]\n",
        "print(rearrangeLowAndHigh(arr))\n"
      ]
    },
    {
      "cell_type": "code",
      "execution_count": null,
      "metadata": {
        "colab": {
          "base_uri": "https://localhost:8080/"
        },
        "id": "2F03abcwaR3D",
        "outputId": "b56e5000-2769-403c-b300-f2b0c9de8251"
      },
      "outputs": [
        {
          "name": "stdout",
          "output_type": "stream",
          "text": [
            "The sum of contiguous sublist with the largest sum is 6\n"
          ]
        }
      ],
      "source": [
        "#kadane's algo\n",
        "\n",
        "\n",
        "def kadane(arr):\n",
        "  current_sum = 0\n",
        "  n = len(arr)\n",
        "  max_sum = 0\n",
        "\n",
        "  for i in range(n):\n",
        "\n",
        "    current_sum += arr[i]\n",
        "\n",
        "    current_sum = max(current_sum,arr[i])   #for edge case where sum will be less than a elemnt in arr\n",
        "\n",
        "    max_sum = max(max_sum,current_sum)\n",
        "\n",
        "  return max_sum\n",
        "\n",
        "if __name__ == '__main__':\n",
        "    A = [4,-1,2,1]\n",
        "    print(\"The sum of contiguous sublist with the largest sum is\", kadane(A))"
      ]
    },
    {
      "cell_type": "code",
      "execution_count": null,
      "metadata": {
        "colab": {
          "base_uri": "https://localhost:8080/"
        },
        "id": "ZSrOE58lVS1L",
        "outputId": "c1f3eecb-5003-4d49-87fc-a2b1051398e2"
      },
      "outputs": [
        {
          "name": "stdout",
          "output_type": "stream",
          "text": [
            "7\n"
          ]
        }
      ],
      "source": [
        "#max diff btw two ele\n",
        "\n",
        "def maxdiff(arr):\n",
        "\n",
        "  max_no = 0\n",
        "  max_diff=0\n",
        "\n",
        "  for i in range (len(arr)-1,-1,-1):\n",
        "\n",
        "    max_no = max(max_no,arr[i])\n",
        "    max_diff = max(max_diff , max_no - arr[i])\n",
        "\n",
        "  return max_diff\n",
        "\n",
        "\n",
        "\n",
        "\n",
        "if __name__ == '__main__':\n",
        "\n",
        "    A = [2, 7, 9, 5, 1, 3, 5]\n",
        "\n",
        "    print(maxdiff(A))\n",
        "\n",
        "\n"
      ]
    },
    {
      "cell_type": "code",
      "execution_count": null,
      "metadata": {
        "id": "Jbh-jEh0bMey"
      },
      "outputs": [],
      "source": [
        "#largest possible no.\n",
        "\n",
        "def custom_function(num1,num2):\n",
        "\n",
        "  frstcombo = str(num1)+str(num2)\n",
        "  secondcombo = str(num2)+str(num1)\n",
        "\n",
        "  if frstcombo > secondcombo:\n",
        "    return 1\n",
        "  elif frstcombo < secondcombo:\n",
        "    return -1\n",
        "\n",
        "  else:\n",
        "    return 0\n",
        "\n",
        "def largest(arr):\n",
        "\n",
        "  arr.sort(key = custom_function)\n",
        "\n",
        "  ans = \"\"\n",
        "\n",
        "  for number in arr:\n",
        "     ans += str(number)\n",
        "  return arr\n",
        "\n",
        "if __name__ == '__main__':\n",
        "    numb = [10, 68, 97, 9, 21, 12]\n",
        "\n",
        "    largestNumber = largest(numb)\n",
        "    print('The largest number is', largestNumber)\n",
        "\n"
      ]
    },
    {
      "cell_type": "code",
      "execution_count": null,
      "metadata": {
        "colab": {
          "base_uri": "https://localhost:8080/"
        },
        "id": "zqJIuvqaenMy",
        "outputId": "505dbeb6-fb72-48ca-b386-1f6b70bea83f"
      },
      "outputs": [
        {
          "name": "stdout",
          "output_type": "stream",
          "text": [
            "4\n"
          ]
        }
      ],
      "source": [
        "#buy and sell stocks\n",
        "\n",
        "def stocks(arr):\n",
        "  smallest =0\n",
        "  profit =0\n",
        "  n =len(arr)\n",
        "\n",
        "  for i in range (1,n-1):\n",
        "\n",
        "    if arr[i-1]>arr[i]:\n",
        "      smallest =arr[i]\n",
        "\n",
        "    if arr[i-1]<arr[i]and (arr[i]>arr[i+1] or i+1 ==n):\n",
        "\n",
        "      profit += arr[i]-smallest\n",
        "\n",
        "  return profit\n",
        "\n",
        "price = [5,2,6,1,4]\n",
        "print(stocks(price))\n",
        "\n",
        "\n",
        "\n",
        "\n",
        "\n"
      ]
    },
    {
      "cell_type": "code",
      "execution_count": null,
      "metadata": {
        "colab": {
          "base_uri": "https://localhost:8080/"
        },
        "id": "FuUUX4FZgWur",
        "outputId": "bfcd0ffd-edd3-42b4-a0c0-107362b8e07b"
      },
      "outputs": [
        {
          "name": "stdout",
          "output_type": "stream",
          "text": [
            "4\n"
          ]
        }
      ],
      "source": [
        "\n",
        "#search an ele in nearly sorted array\n",
        "\n",
        "\n",
        "\n",
        "def search(arr,ele):\n",
        "\n",
        "  left , right = 0 , len(arr)-1\n",
        "\n",
        "\n",
        "\n",
        "  while left<=right:\n",
        "\n",
        "    mid = (left+right) // 2\n",
        "\n",
        "    if arr[mid] == ele:\n",
        "      return mid\n",
        "    elif arr[mid+1] == ele and arr[mid+1]>=right:\n",
        "      return mid+1\n",
        "    elif arr[mid-1] == ele and arr[mid-1] >=left:\n",
        "      return mid-1\n",
        "\n",
        "    elif arr[mid]>ele:\n",
        "      right = mid -2\n",
        "    else:\n",
        "      left = mid+2\n",
        "  return -1\n",
        "\n",
        "arr = [1,3,5,6,7,8]\n",
        "print (search(arr,7))\n",
        "\n",
        "\n",
        "\n",
        "\n"
      ]
    },
    {
      "cell_type": "code",
      "execution_count": null,
      "metadata": {
        "colab": {
          "base_uri": "https://localhost:8080/"
        },
        "id": "ymXfIRZRDwq-",
        "outputId": "c98fdf08-5764-4a88-c540-1df01e54decb"
      },
      "outputs": [
        {
          "name": "stdout",
          "output_type": "stream",
          "text": [
            "1\n",
            "2\n",
            "4\n",
            "None\n"
          ]
        }
      ],
      "source": [
        "#find all odd occuring ele\n",
        "\n",
        "def solve(a, n):\n",
        "    xor = 0\n",
        "\n",
        "    for i in range(n):               # for extracting items and power it with 2\n",
        "        num = 2 ** a[i]\n",
        "        xor = xor ^ num              # xor with the new vlaues of nums\n",
        "\n",
        "    binaryValue = bin(xor)[2:]      # bin converts the numeric vlaue to binary and its value starts for 2nd index\n",
        "    currentIdx = 0\n",
        "\n",
        "    for i in range(len(binaryValue) - 1, -1, -1):\n",
        "        if binaryValue[i] == \"1\":     # Bin is str type  return index having 1\n",
        "            print(currentIdx)\n",
        "        currentIdx += 1\n",
        "\n",
        "arr = [3,2,1,2,2,3,4]\n",
        "n = len(arr)\n",
        "print (solve(arr,n))"
      ]
    },
    {
      "cell_type": "code",
      "execution_count": null,
      "metadata": {
        "colab": {
          "base_uri": "https://localhost:8080/"
        },
        "id": "BvPtBtsdFupu",
        "outputId": "2f07f242-8753-47e3-b436-b895769715c6"
      },
      "outputs": [
        {
          "name": "stdout",
          "output_type": "stream",
          "text": [
            "4\n"
          ]
        }
      ],
      "source": [
        "#find Distinct abs\n",
        "\n",
        "def find(arr,n):\n",
        "\n",
        "  left  , right = 0 ,n-1\n",
        "\n",
        "  distcount = n\n",
        "\n",
        "  while(left < right ):\n",
        "\n",
        "    while  left<right and arr[left] == arr [left+1] :\n",
        "\n",
        "\n",
        "      distcount -=1\n",
        "      left += 1\n",
        "\n",
        "\n",
        "    while right >left and arr[right] == arr [right-1]:\n",
        "\n",
        "\n",
        "      distcount -=1\n",
        "      right -= 1\n",
        "\n",
        "    if left == right:\n",
        "      break\n",
        "\n",
        "\n",
        "    cs  =  arr[left] + arr [right]\n",
        "\n",
        "    if cs == 0:\n",
        "      distcount -= 1\n",
        "      left+=1\n",
        "      right-=1\n",
        "\n",
        "    elif cs > 0:\n",
        "\n",
        "      right -=1\n",
        "\n",
        "    elif cs < 0 :\n",
        "\n",
        "      left += 1\n",
        "\n",
        "  return distcount\n",
        "\n",
        "\n",
        "arr = [-2,-1,-1,0,1,2,3,3]\n",
        "n = len(arr)\n",
        "print (find(arr,n))\n"
      ]
    },
    {
      "cell_type": "code",
      "execution_count": null,
      "metadata": {
        "colab": {
          "base_uri": "https://localhost:8080/"
        },
        "id": "gFqBNoB8bfux",
        "outputId": "4168fc87-5d19-4ed7-d5e5-5b96aa6d0d6b"
      },
      "outputs": [
        {
          "name": "stdout",
          "output_type": "stream",
          "text": [
            "5\n",
            "6\n",
            "10\n",
            "None\n"
          ]
        }
      ],
      "source": [
        "#ele greater than right of the ele\n",
        "\n",
        "def greater(arr):                                       # iterate from back, conisder arr[n-1] =, max compare it with other ele ,return if ele >max  and update max\n",
        "  n = len(arr)\n",
        "  max = arr[n-1]\n",
        "  print(max)\n",
        "\n",
        "  for i in range (n-2,-1,-1):\n",
        "\n",
        "    if arr[i] > max:\n",
        "\n",
        "      print (arr[i])\n",
        "      max = arr[i]\n",
        "\n",
        "\n",
        "arr=[10,4,6,3,5]\n",
        "print(greater(arr))"
      ]
    },
    {
      "cell_type": "code",
      "execution_count": null,
      "metadata": {
        "colab": {
          "base_uri": "https://localhost:8080/"
        },
        "id": "ilqv9P1gdeFD",
        "outputId": "11219720-355f-423c-a2d8-02bb09089180"
      },
      "outputs": [
        {
          "name": "stdout",
          "output_type": "stream",
          "text": [
            "[32, -1, 94, 35, 65, 80, 90, 94, -1, -1]\n"
          ]
        }
      ],
      "source": [
        "#lest greater ele\n",
        "\n",
        "def solve(arr,n):\n",
        "\n",
        "  for i in range(n):\n",
        "\n",
        "    num = arr[i]\n",
        "    ans = float(\"inf\")\n",
        "    flag = 0\n",
        "\n",
        "    for j in range (i+1,n):\n",
        "\n",
        "      if arr[j] > num:\n",
        "        ans = min(ans,arr[j])\n",
        "        flag = 1\n",
        "\n",
        "    if flag == 1:\n",
        "      arr[i] = ans\n",
        "\n",
        "    else:\n",
        "      arr[i] = -1\n",
        "\n",
        "\n",
        "  return (arr)\n",
        "\n",
        "arr= [10,100,93,32,35,65,80,90,94,6]\n",
        "n = len(arr)\n",
        "print (solve(arr,n))\n",
        "\n",
        "\n"
      ]
    },
    {
      "cell_type": "code",
      "execution_count": null,
      "metadata": {
        "colab": {
          "base_uri": "https://localhost:8080/"
        },
        "id": "PXt3T1LRp2oY",
        "outputId": "469819c4-bc8f-4efc-a039-bcbcfb9b18ef"
      },
      "outputs": [
        {
          "name": "stdout",
          "output_type": "stream",
          "text": [
            "[32, -1, 94, 35, 65, 80, 90, 94, -1, -1]\n"
          ]
        }
      ],
      "source": []
    },
    {
      "cell_type": "code",
      "execution_count": null,
      "metadata": {
        "colab": {
          "base_uri": "https://localhost:8080/"
        },
        "id": "5RoYJGDrrqwW",
        "outputId": "918b416f-568b-42db-a27e-9f895161e1c4"
      },
      "outputs": [
        {
          "name": "stdout",
          "output_type": "stream",
          "text": [
            "[2, 7, 7, 2, 4, 1, 5, 8, 7]\n"
          ]
        }
      ],
      "source": [
        "#add elements of two arrays into new\n",
        "\n",
        "def add(a,b):\n",
        "\n",
        "  m = len(a)\n",
        "  n = len(b)\n",
        "\n",
        "  new = ''\n",
        "  i = 0\n",
        "\n",
        "  while i <n and i<m:                      # adding the ele in new (convert ele in str)\n",
        "    new += str (a[i]+b[i])\n",
        "    i +=1\n",
        "\n",
        "  while i < m:                             # taking care of left ones\n",
        "    new += str (a[i])\n",
        "    i+=1\n",
        "\n",
        "  while i< n :\n",
        "    new += str(b[i])\n",
        "    i+=1\n",
        "\n",
        "  return  [int(i) for i in new]          #list comp for speartion\n",
        "\n",
        "\n",
        "a = [23,5,2,7,87]\n",
        "b = [4,67,2,8]\n",
        "\n",
        "print(add(a,b))\n",
        "\n"
      ]
    },
    {
      "cell_type": "code",
      "execution_count": null,
      "metadata": {
        "colab": {
          "base_uri": "https://localhost:8080/"
        },
        "id": "SjlMrBwJI-D2",
        "outputId": "d27889d8-ef53-482f-d307-d63ea23fca63"
      },
      "outputs": [
        {
          "name": "stdout",
          "output_type": "stream",
          "text": [
            "True\n"
          ]
        }
      ],
      "source": [
        "# Function to check if consecutive integers form a list\n",
        "\n",
        "def consecutive(arr):                                       #check len = max-min ,sort the arr, check a[i] == a[i-1]+1 or a[i]+1 == a[i+1]\n",
        "\n",
        "\n",
        "  n = len(arr)\n",
        "  maxvalue = max(arr)\n",
        "  minvalue = min(arr)\n",
        "\n",
        "  if (maxvalue - minvalue) != (n-1):\n",
        "\n",
        "    return False\n",
        "\n",
        "  arr.sort()\n",
        "\n",
        "  for i in range (1,n):\n",
        "\n",
        "    if arr[i] == (arr[i-1] +1):\n",
        "      continue\n",
        "\n",
        "    else:\n",
        "      return False\n",
        "\n",
        "  return True\n",
        "\n",
        "\n",
        "A = [-1, 5, 4, 2, 0, 3, 1]\n",
        "print (consecutive(A))\n",
        "\n",
        "\n",
        "\n",
        "\n",
        "\n"
      ]
    },
    {
      "cell_type": "code",
      "execution_count": null,
      "metadata": {
        "id": "kRGJ-SPQV3we"
      },
      "outputs": [],
      "source": [
        "#min moves to convert array to zero\n",
        "\n",
        "def minmoves(arr,n):\n",
        "  moves = 0\n",
        "\n",
        "  while True:\n",
        "\n",
        "    zerocount = 0\n",
        "    for i in range(n):\n",
        "\n",
        "      if arr[i] %2 ==1:\n",
        "\n",
        "        arr[i] -= 1\n",
        "        moves += 1\n",
        "\n",
        "      if arr[i] == 0:\n",
        "        zerocount += 1\n",
        "\n",
        "    if zerocount == n:\n",
        "      break\n",
        "\n",
        "    for j in range(n):\n",
        "\n",
        "      arr[j] == arr[j] // 2\n",
        "\n",
        "    moves+=1\n",
        "\n",
        "  return moves\n",
        "\n",
        "arr = [8, 9, 8]\n",
        "n = len(arr)\n",
        "print(minmoves(arr,n))\n",
        "\n"
      ]
    },
    {
      "cell_type": "code",
      "execution_count": null,
      "metadata": {
        "colab": {
          "base_uri": "https://localhost:8080/"
        },
        "id": "8BhMghiDjENr",
        "outputId": "efe4c8c6-f781-4a26-c104-1827fca733e7"
      },
      "outputs": [
        {
          "name": "stdout",
          "output_type": "stream",
          "text": [
            "The minimum moves required is 7\n"
          ]
        }
      ],
      "source": [
        "# Find the minimum number of moves required for converting a given list\n",
        "# to a list of zeroes using only the decrement and reduce operation.\n",
        "def countMoves(A):\n",
        "\n",
        "    # stores the count of minimum moves required\n",
        "    min_moves = 0\n",
        "\n",
        "    # loop till all elements in the list become 0\n",
        "    while True:\n",
        "\n",
        "        # stores count of 0's in the current list\n",
        "        no_of_zeroes = 0\n",
        "\n",
        "        # traverse the list\n",
        "        for i in range(len(A)):\n",
        "            # convert all odd numbers to even by reducing their value by 1\n",
        "            # for each odd value, increment the number of moves required\n",
        "            if A[i] % 2 == 1:\n",
        "                A[i] = A[i] - 1\n",
        "                min_moves = min_moves + 1\n",
        "\n",
        "            # increment zeroes count if the current element becomes 0\n",
        "            if A[i] == 0:\n",
        "                no_of_zeroes = no_of_zeroes + 1\n",
        "\n",
        "        # break the loop if elements in the list become 0\n",
        "        if no_of_zeroes == len(A):\n",
        "            break\n",
        "\n",
        "        # Since each element in the list is even at this point,\n",
        "        # divide each element by 2\n",
        "        for j in range(len(A)):\n",
        "            A[j] = A[j] // 2\n",
        "\n",
        "        # increment number of moves by 1 for the above divide operation\n",
        "        min_moves = min_moves + 1\n",
        "\n",
        "    # return count of minimum moves required\n",
        "    return min_moves\n",
        "\n",
        "\n",
        "if __name__ == '__main__':\n",
        "\n",
        "    A = [8, 9, 8]\n",
        "\n",
        "    print(\"The minimum moves required is\", countMoves(A))"
      ]
    },
    {
      "cell_type": "code",
      "execution_count": null,
      "metadata": {
        "colab": {
          "base_uri": "https://localhost:8080/"
        },
        "id": "R9ZP-QHiQ0hn",
        "outputId": "08c53315-794a-4014-c7eb-b0d46c8f36e2"
      },
      "outputs": [
        {
          "name": "stdout",
          "output_type": "stream",
          "text": [
            "13\n"
          ]
        }
      ],
      "source": [
        "#buy sell stocks 2\n",
        "\n",
        "def buy(arr):\n",
        "  n = len(arr)\n",
        "  profit = 0\n",
        "  for i in range (1,n):\n",
        "\n",
        "    if arr[i] > arr[i-1]:\n",
        "\n",
        "      profit += arr[i] -arr[i-1]\n",
        "\n",
        "  return profit\n",
        "\n",
        "arr = [5,2,6,1,4,7,3,6]\n",
        "print(buy(arr))\n",
        "\n"
      ]
    },
    {
      "cell_type": "code",
      "execution_count": null,
      "metadata": {
        "colab": {
          "base_uri": "https://localhost:8080/"
        },
        "id": "UogLYu2bSdeE",
        "outputId": "40c74712-b6b4-45e5-b868-7906f50c9bc3"
      },
      "outputs": [
        {
          "name": "stdout",
          "output_type": "stream",
          "text": [
            "1\n"
          ]
        }
      ],
      "source": [
        "#majority element\n",
        "\n",
        "def Majority(arr, n):\n",
        "    candidate = -1\n",
        "    votes = 0\n",
        "\n",
        "    # Finding majority candidate\n",
        "    for i in range (n):\n",
        "        if (votes == 0):\n",
        "            candidate = arr[i]\n",
        "            votes = 1\n",
        "        else:\n",
        "            if (arr[i] == candidate):\n",
        "                votes += 1\n",
        "            else:\n",
        "                votes -= 1\n",
        "\n",
        "    count = 0\n",
        "\n",
        "    for i in range(0,n):\n",
        "\n",
        "      if (arr[i] == candidate):\n",
        "        count  += 1\n",
        "\n",
        "\n",
        "    if (count > n //2):\n",
        "\n",
        "      return candidate\n",
        "\n",
        "    else:\n",
        "\n",
        "      return -1\n",
        "\n",
        "\n",
        "arr = [2,2,1,1,1]\n",
        "print(Majority(arr,len(arr)))\n",
        "\n",
        "\n",
        "\n",
        "\n",
        "\n",
        "\n",
        "\n"
      ]
    },
    {
      "cell_type": "code",
      "execution_count": null,
      "metadata": {
        "colab": {
          "background_save": true
        },
        "id": "C4imLPP1X0BE"
      },
      "outputs": [],
      "source": [
        "#trapping rain water\n",
        "\n",
        "\n",
        "\n",
        "\n",
        "\n",
        "\n"
      ]
    },
    {
      "cell_type": "code",
      "execution_count": null,
      "metadata": {
        "colab": {
          "base_uri": "https://localhost:8080/"
        },
        "id": "yYg1K2ytZY54",
        "outputId": "6e45e4c1-2592-485b-bcdf-a60607bafc42"
      },
      "outputs": [
        {
          "name": "stdout",
          "output_type": "stream",
          "text": [
            "1 1 5 5 3 3 None\n"
          ]
        }
      ],
      "source": [
        "#group ele based on first occurence\n",
        "\n",
        "\n",
        "def group(arr):\n",
        "  frequency = {}\n",
        "  n = len(arr)\n",
        "\n",
        "  for i in range (n):\n",
        "    if arr[i] in frequency:\n",
        "      frequency[arr[i]]+=1\n",
        "    else:\n",
        "      frequency[arr[i]] = 1\n",
        "\n",
        "  for i in range (n):\n",
        "    if frequency[arr[i]] != 0:\n",
        "      for j in range (frequency[arr[i]]):\n",
        "        print (arr[i] , end = \" \")\n",
        "\n",
        "      frequency[arr[i]] = 0\n",
        "\n",
        "arr = [1,5,3,3,1,5]\n",
        "print(group(arr))\n",
        "\n",
        "\n",
        "\n",
        "\n",
        "\n"
      ]
    },
    {
      "cell_type": "code",
      "execution_count": null,
      "metadata": {
        "colab": {
          "base_uri": "https://localhost:8080/"
        },
        "id": "7yapyP9ZL901",
        "outputId": "c63db09c-d450-4339-f093-3496a43d6a90"
      },
      "outputs": [
        {
          "name": "stdout",
          "output_type": "stream",
          "text": [
            "(1, 2) (2, 1)\n",
            "(4, 5) (5, 4)\n"
          ]
        }
      ],
      "source": [
        "#symentric Pair\n",
        "\n",
        "def pair(arr):\n",
        "  setarray = set()\n",
        "  n =len(arr)\n",
        "\n",
        "  for i in range(n):\n",
        "    symentricpair = (arr[i][1],arr[i][0])\n",
        "    if symentricpair in setarray:\n",
        "      print (symentricpair,arr[i])\n",
        "\n",
        "    else:\n",
        "      setarray.add(arr[i])\n",
        "\n",
        "arr = [(1,2),(4,5),(7,2),(2,1),(3,6),(5,7),(5,4)]\n",
        "pair(arr)"
      ]
    },
    {
      "cell_type": "code",
      "execution_count": null,
      "metadata": {
        "colab": {
          "base_uri": "https://localhost:8080/"
        },
        "id": "6M71n6lsNEwJ",
        "outputId": "e40ce534-ecd5-403c-c869-8af94eab50a5"
      },
      "outputs": [
        {
          "name": "stdout",
          "output_type": "stream",
          "text": [
            "(12, 3, 9)\n"
          ]
        }
      ],
      "source": [
        "#triplet\n",
        "\n",
        "def find(arr,target):\n",
        "\n",
        "\n",
        "  n = len(arr)\n",
        "\n",
        "  for i in range (n):\n",
        "     map = set()\n",
        "     num= arr[i]\n",
        "     for j in range (i+1,n):\n",
        "\n",
        "       requiredsum = target - (num + arr[j])\n",
        "\n",
        "       if requiredsum in map:\n",
        "         return (num,requiredsum,arr[j])\n",
        "       else:\n",
        "         map.add(arr[j])\n",
        "\n",
        "  return False\n",
        "\n",
        "arr = [12, 3, 4, 1, 6, 9]\n",
        "print(find(arr,24))"
      ]
    },
    {
      "cell_type": "code",
      "execution_count": null,
      "metadata": {
        "colab": {
          "base_uri": "https://localhost:8080/"
        },
        "id": "OIUOYZ0JHbll",
        "outputId": "d782a064-0228-4265-e015-ea6f60215235"
      },
      "outputs": [
        {
          "name": "stdout",
          "output_type": "stream",
          "text": [
            "True\n"
          ]
        }
      ],
      "source": [
        "#Quadruplets\n",
        "\n",
        "def find(arr,target):\n",
        "  n = len(arr)\n",
        "  arr.sort()\n",
        "\n",
        "  for i in range (n):\n",
        "    num1 = arr[i]\n",
        "\n",
        "    for j in range(i+1,n):\n",
        "      num2 = arr[j]\n",
        "      left = j+1\n",
        "      right = n -1\n",
        "\n",
        "      reqsum = target - (num1+num2)\n",
        "\n",
        "\n",
        "\n",
        "      while left < right:\n",
        "\n",
        "        cs = arr[left] + arr[right]\n",
        "        if cs == reqsum:\n",
        "          return True\n",
        "        elif cs > reqsum :\n",
        "          right -= 1\n",
        "        else:\n",
        "          left +=1\n",
        "\n",
        "\n",
        "  return False\n",
        "\n",
        "\n",
        "arr = [0,1,2,4,7,9]\n",
        "print(find(arr,20))\n",
        "\n"
      ]
    },
    {
      "cell_type": "code",
      "execution_count": null,
      "metadata": {
        "colab": {
          "base_uri": "https://localhost:8080/"
        },
        "id": "t0ZVgWQQE20U",
        "outputId": "ef5ba937-8b3b-4a1a-c21d-0980d8e8c909"
      },
      "outputs": [
        {
          "name": "stdout",
          "output_type": "stream",
          "text": [
            "-2 -1 1 2\n",
            "-2 0 0 2\n",
            "-1 0 0 1\n",
            "None\n"
          ]
        }
      ],
      "source": [
        "#print Quadruplets\n",
        "\n",
        "\n",
        "def find(arr,target):\n",
        "  n = len(arr)\n",
        "  arr.sort()\n",
        "\n",
        "  for i in range (n):\n",
        "    num1 = arr[i]\n",
        "\n",
        "    for j in range(i+1,n):\n",
        "      num2 = arr[j]\n",
        "      left = j+1\n",
        "      right = n -1\n",
        "\n",
        "      reqsum = target - (num1+num2)\n",
        "\n",
        "\n",
        "\n",
        "      while left < right:\n",
        "\n",
        "        cs = arr[left] + arr[right]\n",
        "\n",
        "        if cs == reqsum:\n",
        "          print (num1,num2,arr[left],arr[right])       #if there all ele having target sum [3,7,5,5,5,5]\n",
        "          left+=1\n",
        "          right-=1\n",
        "\n",
        "        elif cs > reqsum :\n",
        "          right -= 1\n",
        "        else:\n",
        "          left +=1\n",
        "\n",
        "\n",
        "\n",
        "\n",
        "arr = [1, 0, -1, 0, -2, 2]\n",
        "print(find(arr,0))\n"
      ]
    },
    {
      "cell_type": "code",
      "execution_count": null,
      "metadata": {
        "colab": {
          "base_uri": "https://localhost:8080/"
        },
        "id": "q7mekpJoGpV0",
        "outputId": "dc7cbdac-1f5f-4de8-f004-9827c14091ef"
      },
      "outputs": [
        {
          "name": "stdout",
          "output_type": "stream",
          "text": [
            "1 2 7\n",
            "1 4 5\n",
            "2 3 5\n",
            "None\n"
          ]
        }
      ],
      "source": [
        "#Find Triplets\n",
        "\n",
        "def find(arr,target):\n",
        "  arr.sort()\n",
        "  n= len(arr)\n",
        "\n",
        "  for i in range(n):\n",
        "    num1  = arr[i]\n",
        "\n",
        "    left = i+1\n",
        "    right =n-1\n",
        "    reqsum = target-num1\n",
        "\n",
        "    while (left < right):\n",
        "      cs = arr[left] + arr [right]\n",
        "\n",
        "      if cs == reqsum:\n",
        "        print (num1,arr[left],arr[right])\n",
        "        left+=1\n",
        "        right-=1\n",
        "\n",
        "\n",
        "      elif cs > reqsum:\n",
        "        right -= 1\n",
        "      else:\n",
        "        left+=1\n",
        "\n",
        "\n",
        "arr = [2, 7, 4, 9, 5, 1, 3]\n",
        "print (find(arr,10))"
      ]
    },
    {
      "cell_type": "code",
      "execution_count": null,
      "metadata": {
        "colab": {
          "background_save": true
        },
        "id": "rXpHfzUVK3Fc"
      },
      "outputs": [],
      "source": [
        "#triplets forming arithematic progession\n",
        "\n",
        "\n",
        "def find(arr):\n",
        "\n",
        "  n = len(arr)\n",
        "\n",
        "  for i in range(1,n-1):\n",
        "\n",
        "    b = arr[i]\n",
        "    left = i-1\n",
        "    right = i+1\n",
        "\n",
        "    while left >=0 and right <n:\n",
        "\n",
        "\n",
        "       if  arr[left] + arr[right] == 2**b:\n",
        "            print (arr[left],b,a[right])\n",
        "            left+=1\n",
        "            right-=1\n",
        "\n",
        "       elif cs > 2**b:\n",
        "           right-=1\n",
        "\n",
        "       else:\n",
        "           left+=1\n",
        "\n",
        "arr = [9,10,11,12,13,15]\n",
        "print(find(arr))\n"
      ]
    },
    {
      "cell_type": "code",
      "execution_count": null,
      "metadata": {
        "colab": {
          "base_uri": "https://localhost:8080/"
        },
        "id": "xzxerWlXjj7G",
        "outputId": "9defd093-8211-4bc5-c097-ae3f99499805"
      },
      "outputs": [
        {
          "output_type": "stream",
          "name": "stdout",
          "text": [
            "(1, 3, 5)\n",
            "(1, 5, 9)\n",
            "(3, 6, 9)\n",
            "(1, 8, 15)\n",
            "(3, 9, 15)\n"
          ]
        }
      ],
      "source": [
        "def findAllTriplets(A):\n",
        "\n",
        "    if len(A) < 3:\n",
        "        return\n",
        "\n",
        "    # consider `A[j]` as the middle element of AP\n",
        "    for j in range(1, len(A) - 1):\n",
        "\n",
        "        # start with the left and right index of `j`\n",
        "        i = j - 1\n",
        "        k = j + 1\n",
        "\n",
        "        # Find all `i` and `k` such that `(i, j, k)` form an AP triplet\n",
        "        while i >= 0 and k < len(A):\n",
        "\n",
        "            # if `(A[i], A[j], A[k])` forms a triplet\n",
        "            if A[i] + A[k] == 2 * A[j]:\n",
        "\n",
        "                # print the triplet\n",
        "                print((A[i], A[j], A[k]))\n",
        "\n",
        "                # Since the list is sorted and elements are distinct\n",
        "                k = k + 1\n",
        "                i = i - 1\n",
        "\n",
        "            # otherwise, if `(A[i] + A[k])` is less than `2×A[j]` then\n",
        "            # try next `k`. Else, try the previous `i`.\n",
        "            elif A[i] + A[k] < 2 * A[j]:\n",
        "                k = k + 1\n",
        "            else:\n",
        "                i = i - 1\n",
        "\n",
        "\n",
        "if __name__ == '__main__':\n",
        "\n",
        "    A = [1, 3, 5, 6, 8, 9, 15]\n",
        "    findAllTriplets(A)"
      ]
    },
    {
      "cell_type": "code",
      "execution_count": null,
      "metadata": {
        "id": "ti-J6uTMkXga"
      },
      "outputs": [],
      "source": [
        "class Node:\n",
        "    def __init__(self, data=None, next=None):\n",
        "        self.data = data\n",
        "        self.next = next\n",
        "\n",
        "\n",
        "# Function to print a given linked list\n",
        "def printList(head):\n",
        "    ptr = head\n",
        "    while ptr is not None:\n",
        "        print(ptr.data, end=' —> ')\n",
        "        ptr = ptr.next\n",
        "\n",
        "    print('None')\n",
        "\n",
        "\n",
        "# Function to construct a linked list from a given set of keys\n",
        "def construct(keys):\n",
        "    head = None\n",
        "\n",
        "    # start from the end of the list\n",
        "    for i in reversed(range(len(keys))):\n",
        "        # allocate a new node in a heap and set its data\n",
        "        head = Node(keys[i], head)\n",
        "\n",
        "    return head"
      ]
    },
    {
      "cell_type": "code",
      "source": [],
      "metadata": {
        "id": "9x-aI3rugZw9"
      },
      "execution_count": null,
      "outputs": []
    }
  ],
  "metadata": {
    "colab": {
      "provenance": [],
      "authorship_tag": "ABX9TyOo4AkesG2rP7AR9TlrY6xZ",
      "include_colab_link": true
    },
    "kernelspec": {
      "display_name": "Python 3",
      "name": "python3"
    },
    "language_info": {
      "name": "python"
    }
  },
  "nbformat": 4,
  "nbformat_minor": 0
}